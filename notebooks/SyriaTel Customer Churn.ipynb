{
 "cells": [
  {
   "cell_type": "markdown",
   "metadata": {},
   "source": [
    "# Step 1: Business Understanding\n",
    "\n",
    "## Objective\n",
    "\n",
    "Syriatel is a telecommunications company experiencing a growing concern over customer churn, which refers to the loss of clients or subscribers. The goal of this project is to build a machine learning model that accurately predicts whether a customer is likely to churn based on their behavior and service usage history.\n",
    "\n",
    "By identifying high-risk customers early, Syriatel can implement proactive retention strategies, such as targeted offers, discounts, or personalized support.\n",
    "\n",
    "## Problem Statement\n",
    "\n",
    "Customer churn has a direct impact on company revenue and growth. Acquiring a new customer is often more expensive than retaining an existing one. Syriatel seeks to leverage historical customer data to develop a predictive model that classifies customers into two categories:\n",
    "\n",
    "- **Churn = True**: Customers who are likely to leave the service.\n",
    "- **Churn = False**: Customers who are expected to stay.\n",
    "\n",
    "## Goals\n",
    "\n",
    "- Understand the factors that contribute to customer churn.\n",
    "- Build a reliable classification model using historical customer data.\n",
    "- Provide actionable insights and recommendations to reduce churn rates.\n",
    "- Deploy the model in a way that integrates with Syriatel’s customer relationship management (CRM) systems for real-time retention action.\n",
    "\n",
    "## Success Criteria\n",
    "\n",
    "- A trained model with acceptable classification performance (e.g., accuracy, precision, recall).\n",
    "- A clean, reproducible notebook that explains each step clearly.\n",
    "- Data preprocessed using pipelines to prevent leakage and ensure future scalability.\n",
    "- A summary of the top churn indicators to assist business teams in retention strategy.\n"
   ]
  }
 ],
 "metadata": {
  "kernelspec": {
   "display_name": "Python (learn-env)",
   "language": "python",
   "name": "learn-env"
  },
  "language_info": {
   "codemirror_mode": {
    "name": "ipython",
    "version": 3
   },
   "file_extension": ".py",
   "mimetype": "text/x-python",
   "name": "python",
   "nbconvert_exporter": "python",
   "pygments_lexer": "ipython3",
   "version": "3.8.5"
  }
 },
 "nbformat": 4,
 "nbformat_minor": 4
}
