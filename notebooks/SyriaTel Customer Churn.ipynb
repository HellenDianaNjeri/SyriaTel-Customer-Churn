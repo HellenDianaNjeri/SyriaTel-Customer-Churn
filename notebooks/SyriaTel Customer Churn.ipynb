{
 "cells": [
  {
   "cell_type": "markdown",
   "metadata": {},
   "source": [
    "# Step 1: Business Understanding\n",
    "\n",
    "## Objective\n",
    "\n",
    "Syriatel is a telecommunications company experiencing a growing concern over customer churn, which refers to the loss of clients or subscribers. The goal of this project is to build a machine learning model that accurately predicts whether a customer is likely to churn based on their behavior and service usage history.\n",
    "\n",
    "By identifying high-risk customers early, Syriatel can implement proactive retention strategies, such as targeted offers, discounts, or personalized support.\n",
    "\n",
    "## Problem Statement\n",
    "\n",
    "Customer churn has a direct impact on company revenue and growth. Acquiring a new customer is often more expensive than retaining an existing one. Syriatel seeks to leverage historical customer data to develop a predictive model that classifies customers into two categories:\n",
    "\n",
    "- **Churn = True**: Customers who are likely to leave the service.\n",
    "- **Churn = False**: Customers who are expected to stay.\n",
    "\n",
    "## Goals\n",
    "\n",
    "- Understand the factors that contribute to customer churn.\n",
    "- Build a reliable classification model using historical customer data.\n",
    "- Provide actionable insights and recommendations to reduce churn rates.\n",
    "- Deploy the model in a way that integrates with Syriatel’s customer relationship management (CRM) systems for real-time retention action.\n",
    "\n",
    "## Success Criteria\n",
    "\n",
    "- A trained model with acceptable classification performance (e.g., accuracy, precision, recall).\n",
    "- A clean, reproducible notebook that explains each step clearly.\n",
    "- Data preprocessed using pipelines to prevent leakage and ensure future scalability.\n",
    "- A summary of the top churn indicators to assist business teams in retention strategy.\n"
   ]
  },
  {
   "cell_type": "markdown",
   "metadata": {},
   "source": [
    "# Step 2: Data Understanding\n",
    "\n",
    "Understanding the structure, quality, and content of the data is essential before building any predictive model. This step involves reviewing the dataset's shape, data types, missing values, and summary statistics. The insights gathered here will inform decisions during data preparation and feature engineering.\n",
    "\n",
    "### Dataset Overview\n",
    "\n",
    "The dataset contains historical records of Syriatel customers, including usage patterns, service subscriptions, and whether or not the customer has churned (target variable: `Churn`).\n",
    "\n",
    "### Key Tasks:\n",
    "- Load the dataset and examine its structure.\n",
    "- Check for missing values and inconsistent data types.\n",
    "- Identify categorical vs numerical features.\n",
    "- Analyze class balance for the target variable (`Churn`).\n"
   ]
  },
  {
   "cell_type": "markdown",
   "metadata": {},
   "source": [
    "### 1. Load the dataset and inspect structure\n"
   ]
  },
  {
   "cell_type": "code",
   "execution_count": 1,
   "metadata": {},
   "outputs": [
    {
     "name": "stdout",
     "output_type": "stream",
     "text": [
      "Dataset shape: (3333, 21)\n",
      "\n",
      "Columns:\n",
      "['state', 'account length', 'area code', 'phone number', 'international plan', 'voice mail plan', 'number vmail messages', 'total day minutes', 'total day calls', 'total day charge', 'total eve minutes', 'total eve calls', 'total eve charge', 'total night minutes', 'total night calls', 'total night charge', 'total intl minutes', 'total intl calls', 'total intl charge', 'customer service calls', 'churn']\n"
     ]
    }
   ],
   "source": [
    "import pandas as pd\n",
    "\n",
    "# Load dataset\n",
    "file_path = \"../data/bigml_59c28831336c6604c800002a.csv\"\n",
    "df = pd.read_csv(file_path)\n",
    "\n",
    "# Show shape and column names\n",
    "print(\"Dataset shape:\", df.shape)\n",
    "print(\"\\nColumns:\")\n",
    "print(df.columns.tolist())\n"
   ]
  },
  {
   "cell_type": "markdown",
   "metadata": {},
   "source": [
    " ### 2. Inspect data types and missing values"
   ]
  },
  {
   "cell_type": "code",
   "execution_count": 2,
   "metadata": {},
   "outputs": [
    {
     "name": "stdout",
     "output_type": "stream",
     "text": [
      "<class 'pandas.core.frame.DataFrame'>\n",
      "RangeIndex: 3333 entries, 0 to 3332\n",
      "Data columns (total 21 columns):\n",
      " #   Column                  Non-Null Count  Dtype  \n",
      "---  ------                  --------------  -----  \n",
      " 0   state                   3333 non-null   object \n",
      " 1   account length          3333 non-null   int64  \n",
      " 2   area code               3333 non-null   int64  \n",
      " 3   phone number            3333 non-null   object \n",
      " 4   international plan      3333 non-null   object \n",
      " 5   voice mail plan         3333 non-null   object \n",
      " 6   number vmail messages   3333 non-null   int64  \n",
      " 7   total day minutes       3333 non-null   float64\n",
      " 8   total day calls         3333 non-null   int64  \n",
      " 9   total day charge        3333 non-null   float64\n",
      " 10  total eve minutes       3333 non-null   float64\n",
      " 11  total eve calls         3333 non-null   int64  \n",
      " 12  total eve charge        3333 non-null   float64\n",
      " 13  total night minutes     3333 non-null   float64\n",
      " 14  total night calls       3333 non-null   int64  \n",
      " 15  total night charge      3333 non-null   float64\n",
      " 16  total intl minutes      3333 non-null   float64\n",
      " 17  total intl calls        3333 non-null   int64  \n",
      " 18  total intl charge       3333 non-null   float64\n",
      " 19  customer service calls  3333 non-null   int64  \n",
      " 20  churn                   3333 non-null   bool   \n",
      "dtypes: bool(1), float64(8), int64(8), object(4)\n",
      "memory usage: 524.2+ KB\n",
      "\n",
      "Missing values per column:\n",
      " state                     0\n",
      "account length            0\n",
      "area code                 0\n",
      "phone number              0\n",
      "international plan        0\n",
      "voice mail plan           0\n",
      "number vmail messages     0\n",
      "total day minutes         0\n",
      "total day calls           0\n",
      "total day charge          0\n",
      "total eve minutes         0\n",
      "total eve calls           0\n",
      "total eve charge          0\n",
      "total night minutes       0\n",
      "total night calls         0\n",
      "total night charge        0\n",
      "total intl minutes        0\n",
      "total intl calls          0\n",
      "total intl charge         0\n",
      "customer service calls    0\n",
      "churn                     0\n",
      "dtype: int64\n"
     ]
    }
   ],
   "source": [
    "# Show info and check for null values\n",
    "df.info()\n",
    "print(\"\\nMissing values per column:\\n\", df.isnull().sum())\n"
   ]
  },
  {
   "cell_type": "markdown",
   "metadata": {},
   "source": [
    "### 3. Class distribution of target variable"
   ]
  },
  {
   "cell_type": "code",
   "execution_count": 4,
   "metadata": {},
   "outputs": [
    {
     "name": "stdout",
     "output_type": "stream",
     "text": [
      "churn class distribution:\n",
      "False    0.855086\n",
      "True     0.144914\n",
      "Name: churn, dtype: float64\n"
     ]
    }
   ],
   "source": [
    "# Target variable distribution\n",
    "print(\"churn class distribution:\")\n",
    "print(df['churn'].value_counts(normalize=True))\n"
   ]
  }
 ],
 "metadata": {
  "kernelspec": {
   "display_name": "learn-env",
   "language": "python",
   "name": "python3"
  },
  "language_info": {
   "codemirror_mode": {
    "name": "ipython",
    "version": 3
   },
   "file_extension": ".py",
   "mimetype": "text/x-python",
   "name": "python",
   "nbconvert_exporter": "python",
   "pygments_lexer": "ipython3",
   "version": "3.8.5"
  }
 },
 "nbformat": 4,
 "nbformat_minor": 4
}
